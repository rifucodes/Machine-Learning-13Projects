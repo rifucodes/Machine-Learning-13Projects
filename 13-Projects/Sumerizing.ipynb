{
 "cells": [
  {
   "cell_type": "code",
   "execution_count": 35,
   "id": "a8f083f9-9639-4658-8630-4c523d5ebb83",
   "metadata": {},
   "outputs": [],
   "source": [
    "para=\"\"\"\n",
    "I’m sorry, but I don’t want to be an emperor. That’s not my business. I don’t want to rule or conquer anyone. I should like to \n",
    "help everyone - if possible - Jew, Gentile - black man - white. We all want to help one another. Human beings are like that. \n",
    "We want to live by each other’s happiness - not by each other’s misery. We don’t want to hate and despise one another. \n",
    "In this world there is room for everyone. And the good earth is rich and can provide for everyone. The way of life can \n",
    "be free and beautiful, but we have lost the way. In the 17th Chapter of St Luke it is written: “the Kingdom of God is within man” \n",
    "- not one man nor a group of men, but in all men! In you! You, the people have the power - the power to create machines. The power \n",
    "to create happiness! You, the people, have the power to make this life free and beautiful, to make this life a wonderful adventure.\n",
    "Chaplin and Hitler were born within a week of one another. “There was something uncanny in the resemblance between the Little Tramp and Adolf Hitler, representing opposite poles of humanity, ” writes Chaplin biographer David Robinson, reproducing an unsigned article from The Spectator dated 21st April 1939:\n",
    "“Providence was in an ironical mood when, fifty years ago this week, it was ordained that Charles Chaplin and Adolf Hitler should \n",
    "make their entry into the world within four days of each other….Each in his own way has expressed the ideas, sentiments, \n",
    "aspirations of the millions of struggling citizens ground between the upper and the lower millstone of society. (…) Each \n",
    "has mirrored the same reality – the predicament of the “little man” in modern society. Each is a distorting mirror, the one \n",
    "for good, the other for untold evil.Chaplin spent many months drafting and re-writing the speech for the end of the film, a call \n",
    "for peace from the barber who has been mistaken for Hynkel. Many people criticized the speech, and thought it was superfluous to \n",
    "the film. Others found it uplifting. Regrettably Chaplin’s words are as relevant today as they were in 1940.\n",
    "\"\"\""
   ]
  },
  {
   "cell_type": "code",
   "execution_count": 36,
   "id": "738680fd-5da0-4ebd-b74c-42c4a697bcc0",
   "metadata": {},
   "outputs": [],
   "source": [
    "import nltk\n",
    "import re\n",
    "\n",
    "from nltk.corpus import stopwords\n",
    "stop_words = set(stopwords.words('english'))\n",
    "\n",
    "from nltk.stem.porter import PorterStemmer\n",
    "ps = PorterStemmer()\n",
    "\n",
    "from nltk.stem import WordNetLemmatizer\n",
    "lemmatizer = WordNetLemmatizer()"
   ]
  },
  {
   "cell_type": "code",
   "execution_count": 37,
   "id": "62682ee7-3bb7-47a4-a732-0b0b2d5c1152",
   "metadata": {},
   "outputs": [],
   "source": [
    "summery = nltk.sent_tokenize(para)\n",
    "\n",
    "cleaned_para= []\n",
    "\n",
    "for i in summery:\n",
    "    clean =re.sub('[^a-zA-Z]', ' ', i) \n",
    "    clean = clean.lower()\n",
    "    clean = clean.split()\n",
    "    clean = [ps.stem(word) for word in clean if word not in stop_words]\n",
    "    cleaned_sentence = ' '.join(clean)\n",
    "    cleaned_para.append(cleaned_sentence)\n",
    "    \n",
    "full_text = ' '.join(cleaned_para)\n"
   ]
  },
  {
   "cell_type": "code",
   "execution_count": 38,
   "id": "6b8a5e73-75ed-4b99-b29d-482424968cd0",
   "metadata": {},
   "outputs": [
    {
     "data": {
      "text/plain": [
       "['sorri want emperor',\n",
       " 'busi',\n",
       " 'want rule conquer anyon',\n",
       " 'like help everyon possibl jew gentil black man white',\n",
       " 'want help one anoth',\n",
       " 'human be like',\n",
       " 'want live happi miseri',\n",
       " 'want hate despis one anoth',\n",
       " 'world room everyon',\n",
       " 'good earth rich provid everyon',\n",
       " 'way life free beauti lost way',\n",
       " 'th chapter st luke written kingdom god within man one man group men men',\n",
       " '',\n",
       " 'peopl power power creat machin',\n",
       " 'power creat happi',\n",
       " 'peopl power make life free beauti make life wonder adventur',\n",
       " 'chaplin hitler born within week one anoth',\n",
       " 'someth uncanni resembl littl tramp adolf hitler repres opposit pole human write chaplin biograph david robinson reproduc unsign articl spectat date st april provid iron mood fifti year ago week ordain charl chaplin adolf hitler make entri world within four day way express idea sentiment aspir million struggl citizen ground upper lower millston societi',\n",
       " 'mirror realiti predica littl man modern societi',\n",
       " 'distort mirror one good untold evil chaplin spent mani month draft write speech end film call peac barber mistaken hynkel',\n",
       " 'mani peopl critic speech thought superflu film',\n",
       " 'other found uplift',\n",
       " 'regrett chaplin word relev today']"
      ]
     },
     "execution_count": 38,
     "metadata": {},
     "output_type": "execute_result"
    }
   ],
   "source": [
    "cleaned_para"
   ]
  },
  {
   "cell_type": "code",
   "execution_count": 39,
   "id": "ccacaa93-343f-481c-b250-9901d8b53cdb",
   "metadata": {},
   "outputs": [
    {
     "data": {
      "text/plain": [
       "'sorri want emperor busi want rule conquer anyon like help everyon possibl jew gentil black man white want help one anoth human be like want live happi miseri want hate despis one anoth world room everyon good earth rich provid everyon way life free beauti lost way th chapter st luke written kingdom god within man one man group men men  peopl power power creat machin power creat happi peopl power make life free beauti make life wonder adventur chaplin hitler born within week one anoth someth uncanni resembl littl tramp adolf hitler repres opposit pole human write chaplin biograph david robinson reproduc unsign articl spectat date st april provid iron mood fifti year ago week ordain charl chaplin adolf hitler make entri world within four day way express idea sentiment aspir million struggl citizen ground upper lower millston societi mirror realiti predica littl man modern societi distort mirror one good untold evil chaplin spent mani month draft write speech end film call peac barber mistaken hynkel mani peopl critic speech thought superflu film other found uplift regrett chaplin word relev today'"
      ]
     },
     "execution_count": 39,
     "metadata": {},
     "output_type": "execute_result"
    }
   ],
   "source": [
    "full_text"
   ]
  },
  {
   "cell_type": "code",
   "execution_count": null,
   "id": "e5be51b4-d099-4a64-97b1-d2312ccacf6a",
   "metadata": {},
   "outputs": [],
   "source": []
  },
  {
   "cell_type": "code",
   "execution_count": null,
   "id": "305e08e2-36dc-4946-8896-ee0882249f21",
   "metadata": {},
   "outputs": [],
   "source": []
  }
 ],
 "metadata": {
  "kernelspec": {
   "display_name": "Python 3 (ipykernel)",
   "language": "python",
   "name": "python3"
  },
  "language_info": {
   "codemirror_mode": {
    "name": "ipython",
    "version": 3
   },
   "file_extension": ".py",
   "mimetype": "text/x-python",
   "name": "python",
   "nbconvert_exporter": "python",
   "pygments_lexer": "ipython3",
   "version": "3.10.12"
  }
 },
 "nbformat": 4,
 "nbformat_minor": 5
}
